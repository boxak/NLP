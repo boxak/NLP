{
 "cells": [
  {
   "cell_type": "code",
   "execution_count": 1,
   "metadata": {},
   "outputs": [
    {
     "name": "stderr",
     "output_type": "stream",
     "text": [
      "Warning message:\n",
      "\"package 'dplyr' was built under R version 3.6.2\"\n",
      "Attaching package: 'dplyr'\n",
      "\n",
      "The following objects are masked from 'package:stats':\n",
      "\n",
      "    filter, lag\n",
      "\n",
      "The following objects are masked from 'package:base':\n",
      "\n",
      "    intersect, setdiff, setequal, union\n",
      "\n",
      "Warning message:\n",
      "\"package 'stringr' was built under R version 3.6.2\"Warning message:\n",
      "\"package 'httr' was built under R version 3.6.2\"Warning message:\n",
      "\"package 'tidyverse' was built under R version 3.6.2\"-- Attaching packages --------------------------------------- tidyverse 1.3.0 --\n",
      "√ ggplot2 3.2.1     √ readr   1.3.1\n",
      "√ tibble  2.1.3     √ purrr   0.3.3\n",
      "√ tidyr   1.0.2     √ forcats 0.4.0\n",
      "Warning message:\n",
      "\"package 'ggplot2' was built under R version 3.6.2\"Warning message:\n",
      "\"package 'tibble' was built under R version 3.6.2\"Warning message:\n",
      "\"package 'tidyr' was built under R version 3.6.2\"Warning message:\n",
      "\"package 'readr' was built under R version 3.6.2\"Warning message:\n",
      "\"package 'purrr' was built under R version 3.6.2\"-- Conflicts ------------------------------------------ tidyverse_conflicts() --\n",
      "x dplyr::filter() masks stats::filter()\n",
      "x dplyr::lag()    masks stats::lag()\n",
      "Warning message:\n",
      "\"package 'tidytext' was built under R version 3.6.2\"Warning message:\n",
      "\"package 'RcppMeCab' was built under R version 3.6.2\"Warning message:\n",
      "\"package 'rvest' was built under R version 3.6.2\"Loading required package: xml2\n",
      "Warning message:\n",
      "\"package 'xml2' was built under R version 3.6.2\"\n",
      "Attaching package: 'rvest'\n",
      "\n",
      "The following object is masked from 'package:purrr':\n",
      "\n",
      "    pluck\n",
      "\n",
      "The following object is masked from 'package:readr':\n",
      "\n",
      "    guess_encoding\n",
      "\n"
     ]
    }
   ],
   "source": [
    "library('dplyr')\n",
    "library('stringr')\n",
    "library('httr')\n",
    "library('tidyverse')\n",
    "library('tidytext')\n",
    "library('RcppMeCab')\n",
    "library('readr')\n",
    "library('rvest')"
   ]
  },
  {
   "cell_type": "code",
   "execution_count": 2,
   "metadata": {},
   "outputs": [],
   "source": [
    "setwd('C:\\\\Users\\\\82102\\\\Documents\\\\workingDIR\\\\function')\n",
    "source('readcsv.R',encoding = 'UTF-8')\n",
    "source('writecsv.R',encoding = 'UTF-8')"
   ]
  },
  {
   "cell_type": "code",
   "execution_count": 3,
   "metadata": {},
   "outputs": [
    {
     "name": "stderr",
     "output_type": "stream",
     "text": [
      "Warning message:\n",
      "\"Missing column names filled in: 'X1' [1]\"Parsed with column specification:\n",
      "cols(\n",
      "  X1 = col_double(),\n",
      "  word_id = col_double(),\n",
      "  의미어 = col_character(),\n",
      "  표제어 = col_character(),\n",
      "  의미번호 = col_double(),\n",
      "  뜻풀이 = col_character(),\n",
      "  품사 = col_character(),\n",
      "  난이도 = col_character()\n",
      ")\n"
     ]
    }
   ],
   "source": [
    "data <- readcsv('DICT.csv')"
   ]
  },
  {
   "cell_type": "code",
   "execution_count": 4,
   "metadata": {
    "scrolled": false
   },
   "outputs": [
    {
     "data": {
      "text/html": [
       "<table>\n",
       "<thead><tr><th scope=col>X1</th><th scope=col>word_id</th><th scope=col>의미어</th><th scope=col>표제어</th><th scope=col>의미번호</th><th scope=col>뜻풀이</th><th scope=col>품사</th><th scope=col>난이도</th></tr></thead>\n",
       "<tbody>\n",
       "\t<tr><td>149700                                                                  </td><td>149700                                                                  </td><td>인간001                                                                 </td><td>인간                                                                    </td><td>1                                                                       </td><td>생각을 하고 언어를 사용하며, 도구를 만들어 쓰고 사회를 이루어 사는 동물.</td><td>명사                                                                    </td><td>하                                                                      </td></tr>\n",
       "\t<tr><td>149701                                                                  </td><td>149701                                                                  </td><td>인간002                                                                 </td><td>인간                                                                    </td><td>2                                                                       </td><td>사람이 사는 세상.                                                       </td><td>명사                                                                    </td><td>하                                                                      </td></tr>\n",
       "\t<tr><td>149702                                                                  </td><td>149702                                                                  </td><td>인간003                                                                 </td><td>인간                                                                    </td><td>3                                                                       </td><td>일정한 자격이나 품격 등을 갖춘 이.                                      </td><td>명사                                                                    </td><td>하                                                                      </td></tr>\n",
       "\t<tr><td>149703                                                                  </td><td>149703                                                                  </td><td>인간004                                                                 </td><td>인간                                                                    </td><td>4                                                                       </td><td>마음에 달갑지 않거나 마땅치 않은 사람을 낮잡아 이르는 말.               </td><td>명사                                                                    </td><td>하                                                                      </td></tr>\n",
       "</tbody>\n",
       "</table>\n"
      ],
      "text/latex": [
       "\\begin{tabular}{r|llllllll}\n",
       " X1 & word\\_id & 의미어 & 표제어 & 의미번호 & 뜻풀이 & 품사 & 난이도\\\\\n",
       "\\hline\n",
       "\t 149700                                                                   & 149700                                                                   & 인간001                                                                  & 인간                                                                     & 1                                                                        & 생각을 하고 언어를 사용하며, 도구를 만들어 쓰고 사회를 이루어 사는 동물. & 명사                                                                     & 하                                                                      \\\\\n",
       "\t 149701                                                                   & 149701                                                                   & 인간002                                                                  & 인간                                                                     & 2                                                                        & 사람이 사는 세상.                                                        & 명사                                                                     & 하                                                                      \\\\\n",
       "\t 149702                                                                   & 149702                                                                   & 인간003                                                                  & 인간                                                                     & 3                                                                        & 일정한 자격이나 품격 등을 갖춘 이.                                       & 명사                                                                     & 하                                                                      \\\\\n",
       "\t 149703                                                                   & 149703                                                                   & 인간004                                                                  & 인간                                                                     & 4                                                                        & 마음에 달갑지 않거나 마땅치 않은 사람을 낮잡아 이르는 말.                & 명사                                                                     & 하                                                                      \\\\\n",
       "\\end{tabular}\n"
      ],
      "text/markdown": [
       "\n",
       "| X1 | word_id | 의미어 | 표제어 | 의미번호 | 뜻풀이 | 품사 | 난이도 |\n",
       "|---|---|---|---|---|---|---|---|\n",
       "| 149700                                                                   | 149700                                                                   | 인간001                                                                  | 인간                                                                     | 1                                                                        | 생각을 하고 언어를 사용하며, 도구를 만들어 쓰고 사회를 이루어 사는 동물. | 명사                                                                     | 하                                                                       |\n",
       "| 149701                                                                   | 149701                                                                   | 인간002                                                                  | 인간                                                                     | 2                                                                        | 사람이 사는 세상.                                                        | 명사                                                                     | 하                                                                       |\n",
       "| 149702                                                                   | 149702                                                                   | 인간003                                                                  | 인간                                                                     | 3                                                                        | 일정한 자격이나 품격 등을 갖춘 이.                                       | 명사                                                                     | 하                                                                       |\n",
       "| 149703                                                                   | 149703                                                                   | 인간004                                                                  | 인간                                                                     | 4                                                                        | 마음에 달갑지 않거나 마땅치 않은 사람을 낮잡아 이르는 말.                | 명사                                                                     | 하                                                                       |\n",
       "\n"
      ],
      "text/plain": [
       "  X1     word_id 의미어  표제어 의미번호\n",
       "1 149700 149700  인간001 인간   1       \n",
       "2 149701 149701  인간002 인간   2       \n",
       "3 149702 149702  인간003 인간   3       \n",
       "4 149703 149703  인간004 인간   4       \n",
       "  뜻풀이                                                                   품사\n",
       "1 생각을 하고 언어를 사용하며, 도구를 만들어 쓰고 사회를 이루어 사는 동물. 명사\n",
       "2 사람이 사는 세상.                                                        명사\n",
       "3 일정한 자격이나 품격 등을 갖춘 이.                                       명사\n",
       "4 마음에 달갑지 않거나 마땅치 않은 사람을 낮잡아 이르는 말.                명사\n",
       "  난이도\n",
       "1 하    \n",
       "2 하    \n",
       "3 하    \n",
       "4 하    "
      ]
     },
     "metadata": {},
     "output_type": "display_data"
    }
   ],
   "source": [
    "data[data$'표제어'=='인간',]"
   ]
  },
  {
   "cell_type": "code",
   "execution_count": 5,
   "metadata": {},
   "outputs": [
    {
     "data": {
      "text/html": [
       "<table>\n",
       "<thead><tr><th scope=col>X1</th><th scope=col>word_id</th><th scope=col>의미어</th><th scope=col>표제어</th><th scope=col>의미번호</th><th scope=col>뜻풀이</th><th scope=col>품사</th><th scope=col>난이도</th></tr></thead>\n",
       "<tbody>\n",
       "\t<tr><td>149700                                                                  </td><td>149700                                                                  </td><td>인간001                                                                 </td><td>인간                                                                    </td><td>1                                                                       </td><td>생각을 하고 언어를 사용하며, 도구를 만들어 쓰고 사회를 이루어 사는 동물.</td><td>명사                                                                    </td><td>하                                                                      </td></tr>\n",
       "</tbody>\n",
       "</table>\n"
      ],
      "text/latex": [
       "\\begin{tabular}{r|llllllll}\n",
       " X1 & word\\_id & 의미어 & 표제어 & 의미번호 & 뜻풀이 & 품사 & 난이도\\\\\n",
       "\\hline\n",
       "\t 149700                                                                   & 149700                                                                   & 인간001                                                                  & 인간                                                                     & 1                                                                        & 생각을 하고 언어를 사용하며, 도구를 만들어 쓰고 사회를 이루어 사는 동물. & 명사                                                                     & 하                                                                      \\\\\n",
       "\\end{tabular}\n"
      ],
      "text/markdown": [
       "\n",
       "| X1 | word_id | 의미어 | 표제어 | 의미번호 | 뜻풀이 | 품사 | 난이도 |\n",
       "|---|---|---|---|---|---|---|---|\n",
       "| 149700                                                                   | 149700                                                                   | 인간001                                                                  | 인간                                                                     | 1                                                                        | 생각을 하고 언어를 사용하며, 도구를 만들어 쓰고 사회를 이루어 사는 동물. | 명사                                                                     | 하                                                                       |\n",
       "\n"
      ],
      "text/plain": [
       "  X1     word_id 의미어  표제어 의미번호\n",
       "1 149700 149700  인간001 인간   1       \n",
       "  뜻풀이                                                                   품사\n",
       "1 생각을 하고 언어를 사용하며, 도구를 만들어 쓰고 사회를 이루어 사는 동물. 명사\n",
       "  난이도\n",
       "1 하    "
      ]
     },
     "metadata": {},
     "output_type": "display_data"
    }
   ],
   "source": [
    "data[data$'의미어'=='인간001',]"
   ]
  },
  {
   "cell_type": "code",
   "execution_count": 13,
   "metadata": {},
   "outputs": [
    {
     "data": {
      "text/html": [
       "<table>\n",
       "<thead><tr><th scope=col>doc_id</th><th scope=col>sentence_id</th><th scope=col>token_id</th><th scope=col>token</th><th scope=col>pos</th><th scope=col>subtype</th></tr></thead>\n",
       "<tbody>\n",
       "\t<tr><td>1   </td><td>1   </td><td> 1  </td><td>생각</td><td>NNG </td><td>    </td></tr>\n",
       "\t<tr><td>1   </td><td>1   </td><td> 2  </td><td>을  </td><td>JKO </td><td>    </td></tr>\n",
       "\t<tr><td>1   </td><td>1   </td><td> 3  </td><td>하  </td><td>VV  </td><td>    </td></tr>\n",
       "\t<tr><td>1   </td><td>1   </td><td> 4  </td><td>고  </td><td>EC  </td><td>    </td></tr>\n",
       "\t<tr><td>1   </td><td>1   </td><td> 5  </td><td>언어</td><td>NNG </td><td>    </td></tr>\n",
       "\t<tr><td>1   </td><td>1   </td><td> 6  </td><td>를  </td><td>JKO </td><td>    </td></tr>\n",
       "\t<tr><td>1   </td><td>1   </td><td> 7  </td><td>사용</td><td>NNG </td><td>    </td></tr>\n",
       "\t<tr><td>1   </td><td>1   </td><td> 8  </td><td>하  </td><td>XSV </td><td>    </td></tr>\n",
       "\t<tr><td>1   </td><td>1   </td><td> 9  </td><td>며  </td><td>EC  </td><td>    </td></tr>\n",
       "\t<tr><td>1   </td><td>1   </td><td>10  </td><td>,   </td><td>SC  </td><td>    </td></tr>\n",
       "\t<tr><td>1   </td><td>1   </td><td>11  </td><td>도구</td><td>NNG </td><td>    </td></tr>\n",
       "\t<tr><td>1   </td><td>1   </td><td>12  </td><td>를  </td><td>JKO </td><td>    </td></tr>\n",
       "\t<tr><td>1   </td><td>1   </td><td>13  </td><td>만들</td><td>VV  </td><td>    </td></tr>\n",
       "\t<tr><td>1   </td><td>1   </td><td>14  </td><td>어  </td><td>EC  </td><td>    </td></tr>\n",
       "\t<tr><td>1   </td><td>1   </td><td>15  </td><td>쓰  </td><td>VV  </td><td>    </td></tr>\n",
       "\t<tr><td>1   </td><td>1   </td><td>16  </td><td>고  </td><td>EC  </td><td>    </td></tr>\n",
       "\t<tr><td>1   </td><td>1   </td><td>17  </td><td>사회</td><td>NNG </td><td>    </td></tr>\n",
       "\t<tr><td>1   </td><td>1   </td><td>18  </td><td>를  </td><td>JKO </td><td>    </td></tr>\n",
       "\t<tr><td>1   </td><td>1   </td><td>19  </td><td>이루</td><td>VV  </td><td>    </td></tr>\n",
       "\t<tr><td>1   </td><td>1   </td><td>20  </td><td>어  </td><td>EC  </td><td>    </td></tr>\n",
       "\t<tr><td>1   </td><td>1   </td><td>21  </td><td>사  </td><td>VV  </td><td>    </td></tr>\n",
       "\t<tr><td>1   </td><td>1   </td><td>22  </td><td>는  </td><td>ETM </td><td>    </td></tr>\n",
       "\t<tr><td>1   </td><td>1   </td><td>23  </td><td>동물</td><td>NNG </td><td>    </td></tr>\n",
       "\t<tr><td>1   </td><td>1   </td><td>24  </td><td>.   </td><td>SF  </td><td>    </td></tr>\n",
       "</tbody>\n",
       "</table>\n"
      ],
      "text/latex": [
       "\\begin{tabular}{r|llllll}\n",
       " doc\\_id & sentence\\_id & token\\_id & token & pos & subtype\\\\\n",
       "\\hline\n",
       "\t 1    & 1    &  1   & 생각 & NNG  &     \\\\\n",
       "\t 1    & 1    &  2   & 을   & JKO  &     \\\\\n",
       "\t 1    & 1    &  3   & 하   & VV   &     \\\\\n",
       "\t 1    & 1    &  4   & 고   & EC   &     \\\\\n",
       "\t 1    & 1    &  5   & 언어 & NNG  &     \\\\\n",
       "\t 1    & 1    &  6   & 를   & JKO  &     \\\\\n",
       "\t 1    & 1    &  7   & 사용 & NNG  &     \\\\\n",
       "\t 1    & 1    &  8   & 하   & XSV  &     \\\\\n",
       "\t 1    & 1    &  9   & 며   & EC   &     \\\\\n",
       "\t 1    & 1    & 10   & ,    & SC   &     \\\\\n",
       "\t 1    & 1    & 11   & 도구 & NNG  &     \\\\\n",
       "\t 1    & 1    & 12   & 를   & JKO  &     \\\\\n",
       "\t 1    & 1    & 13   & 만들 & VV   &     \\\\\n",
       "\t 1    & 1    & 14   & 어   & EC   &     \\\\\n",
       "\t 1    & 1    & 15   & 쓰   & VV   &     \\\\\n",
       "\t 1    & 1    & 16   & 고   & EC   &     \\\\\n",
       "\t 1    & 1    & 17   & 사회 & NNG  &     \\\\\n",
       "\t 1    & 1    & 18   & 를   & JKO  &     \\\\\n",
       "\t 1    & 1    & 19   & 이루 & VV   &     \\\\\n",
       "\t 1    & 1    & 20   & 어   & EC   &     \\\\\n",
       "\t 1    & 1    & 21   & 사   & VV   &     \\\\\n",
       "\t 1    & 1    & 22   & 는   & ETM  &     \\\\\n",
       "\t 1    & 1    & 23   & 동물 & NNG  &     \\\\\n",
       "\t 1    & 1    & 24   & .    & SF   &     \\\\\n",
       "\\end{tabular}\n"
      ],
      "text/markdown": [
       "\n",
       "| doc_id | sentence_id | token_id | token | pos | subtype |\n",
       "|---|---|---|---|---|---|\n",
       "| 1    | 1    |  1   | 생각 | NNG  |      |\n",
       "| 1    | 1    |  2   | 을   | JKO  |      |\n",
       "| 1    | 1    |  3   | 하   | VV   |      |\n",
       "| 1    | 1    |  4   | 고   | EC   |      |\n",
       "| 1    | 1    |  5   | 언어 | NNG  |      |\n",
       "| 1    | 1    |  6   | 를   | JKO  |      |\n",
       "| 1    | 1    |  7   | 사용 | NNG  |      |\n",
       "| 1    | 1    |  8   | 하   | XSV  |      |\n",
       "| 1    | 1    |  9   | 며   | EC   |      |\n",
       "| 1    | 1    | 10   | ,    | SC   |      |\n",
       "| 1    | 1    | 11   | 도구 | NNG  |      |\n",
       "| 1    | 1    | 12   | 를   | JKO  |      |\n",
       "| 1    | 1    | 13   | 만들 | VV   |      |\n",
       "| 1    | 1    | 14   | 어   | EC   |      |\n",
       "| 1    | 1    | 15   | 쓰   | VV   |      |\n",
       "| 1    | 1    | 16   | 고   | EC   |      |\n",
       "| 1    | 1    | 17   | 사회 | NNG  |      |\n",
       "| 1    | 1    | 18   | 를   | JKO  |      |\n",
       "| 1    | 1    | 19   | 이루 | VV   |      |\n",
       "| 1    | 1    | 20   | 어   | EC   |      |\n",
       "| 1    | 1    | 21   | 사   | VV   |      |\n",
       "| 1    | 1    | 22   | 는   | ETM  |      |\n",
       "| 1    | 1    | 23   | 동물 | NNG  |      |\n",
       "| 1    | 1    | 24   | .    | SF   |      |\n",
       "\n"
      ],
      "text/plain": [
       "   doc_id sentence_id token_id token pos subtype\n",
       "1  1      1            1       생각  NNG        \n",
       "2  1      1            2       을    JKO        \n",
       "3  1      1            3       하    VV         \n",
       "4  1      1            4       고    EC         \n",
       "5  1      1            5       언어  NNG        \n",
       "6  1      1            6       를    JKO        \n",
       "7  1      1            7       사용  NNG        \n",
       "8  1      1            8       하    XSV        \n",
       "9  1      1            9       며    EC         \n",
       "10 1      1           10       ,     SC         \n",
       "11 1      1           11       도구  NNG        \n",
       "12 1      1           12       를    JKO        \n",
       "13 1      1           13       만들  VV         \n",
       "14 1      1           14       어    EC         \n",
       "15 1      1           15       쓰    VV         \n",
       "16 1      1           16       고    EC         \n",
       "17 1      1           17       사회  NNG        \n",
       "18 1      1           18       를    JKO        \n",
       "19 1      1           19       이루  VV         \n",
       "20 1      1           20       어    EC         \n",
       "21 1      1           21       사    VV         \n",
       "22 1      1           22       는    ETM        \n",
       "23 1      1           23       동물  NNG        \n",
       "24 1      1           24       .     SF         "
      ]
     },
     "metadata": {},
     "output_type": "display_data"
    }
   ],
   "source": [
    "RcppMeCab::pos(data[data$'의미어'=='인간001',][[6]],format = 'data.frame')"
   ]
  },
  {
   "cell_type": "code",
   "execution_count": 29,
   "metadata": {},
   "outputs": [
    {
     "name": "stderr",
     "output_type": "stream",
     "text": [
      "Warning message:\n",
      "\"Duplicated column names deduplicated: '의미번호' => '의미번호_1' [9]\"Parsed with column specification:\n",
      "cols(\n",
      "  pair_id = col_double(),\n",
      "  `표제어 kword_id` = col_double(),\n",
      "  표제어 = col_character(),\n",
      "  의미번호 = col_character(),\n",
      "  `표제어 난이도` = col_character(),\n",
      "  relation2 = col_character(),\n",
      "  `관련어 word_id` = col_double(),\n",
      "  관련어 = col_character(),\n",
      "  의미번호_1 = col_character(),\n",
      "  `관련어 난이도` = col_character()\n",
      ")\n"
     ]
    },
    {
     "data": {
      "text/html": [
       "<table>\n",
       "<thead><tr><th scope=col>pair_id</th><th scope=col>표제어 kword_id</th><th scope=col>표제어</th><th scope=col>의미번호</th><th scope=col>표제어 난이도</th><th scope=col>relation2</th><th scope=col>관련어 word_id</th><th scope=col>관련어</th><th scope=col>의미번호_1</th><th scope=col>관련어 난이도</th></tr></thead>\n",
       "<tbody>\n",
       "\t<tr><td>1          </td><td>2184       </td><td>가톨릭     </td><td>002        </td><td>하         </td><td>비슷한말   </td><td> 97798     </td><td>서학       </td><td>002        </td><td>중         </td></tr>\n",
       "\t<tr><td>2          </td><td>2186       </td><td>가톨릭-교  </td><td>001        </td><td>중         </td><td>비슷한말   </td><td> 16023     </td><td>공교       </td><td>002        </td><td>상         </td></tr>\n",
       "\t<tr><td>3          </td><td>2186       </td><td>가톨릭-교  </td><td>001        </td><td>중         </td><td>비슷한말   </td><td>182393     </td><td>천주-학    </td><td>001        </td><td>중         </td></tr>\n",
       "\t<tr><td>4          </td><td>2186       </td><td>가톨릭-교  </td><td>001        </td><td>중         </td><td>비슷한말   </td><td>176596     </td><td>진교       </td><td>002        </td><td>상         </td></tr>\n",
       "\t<tr><td>5          </td><td>2188       </td><td>가톨릭-교도</td><td>001        </td><td>중         </td><td>비슷한말   </td><td>182378     </td><td>천좍-쟁이  </td><td>001        </td><td>상         </td></tr>\n",
       "\t<tr><td>6          </td><td>2190       </td><td>가톨릭교-회</td><td>001        </td><td>중         </td><td>비슷한말   </td><td>182379     </td><td>천주^공교회</td><td>001        </td><td>상         </td></tr>\n",
       "</tbody>\n",
       "</table>\n"
      ],
      "text/latex": [
       "\\begin{tabular}{r|llllllllll}\n",
       " pair\\_id & 표제어 kword\\_id & 표제어 & 의미번호 & 표제어 난이도 & relation2 & 관련어 word\\_id & 관련어 & 의미번호\\_1 & 관련어 난이도\\\\\n",
       "\\hline\n",
       "\t 1           & 2184        & 가톨릭      & 002         & 하          & 비슷한말    &  97798      & 서학        & 002         & 중         \\\\\n",
       "\t 2           & 2186        & 가톨릭-교   & 001         & 중          & 비슷한말    &  16023      & 공교        & 002         & 상         \\\\\n",
       "\t 3           & 2186        & 가톨릭-교   & 001         & 중          & 비슷한말    & 182393      & 천주-학     & 001         & 중         \\\\\n",
       "\t 4           & 2186        & 가톨릭-교   & 001         & 중          & 비슷한말    & 176596      & 진교        & 002         & 상         \\\\\n",
       "\t 5           & 2188        & 가톨릭-교도 & 001         & 중          & 비슷한말    & 182378      & 천좍-쟁이   & 001         & 상         \\\\\n",
       "\t 6                             & 2190                          & 가톨릭교-회                   & 001                           & 중                            & 비슷한말                      & 182379                        & 천주\\textasciicircum{}공교회 & 001                           & 상                           \\\\\n",
       "\\end{tabular}\n"
      ],
      "text/markdown": [
       "\n",
       "| pair_id | 표제어 kword_id | 표제어 | 의미번호 | 표제어 난이도 | relation2 | 관련어 word_id | 관련어 | 의미번호_1 | 관련어 난이도 |\n",
       "|---|---|---|---|---|---|---|---|---|---|\n",
       "| 1           | 2184        | 가톨릭      | 002         | 하          | 비슷한말    |  97798      | 서학        | 002         | 중          |\n",
       "| 2           | 2186        | 가톨릭-교   | 001         | 중          | 비슷한말    |  16023      | 공교        | 002         | 상          |\n",
       "| 3           | 2186        | 가톨릭-교   | 001         | 중          | 비슷한말    | 182393      | 천주-학     | 001         | 중          |\n",
       "| 4           | 2186        | 가톨릭-교   | 001         | 중          | 비슷한말    | 176596      | 진교        | 002         | 상          |\n",
       "| 5           | 2188        | 가톨릭-교도 | 001         | 중          | 비슷한말    | 182378      | 천좍-쟁이   | 001         | 상          |\n",
       "| 6           | 2190        | 가톨릭교-회 | 001         | 중          | 비슷한말    | 182379      | 천주^공교회 | 001         | 상          |\n",
       "\n"
      ],
      "text/plain": [
       "  pair_id 표제어 kword_id 표제어      의미번호 표제어 난이도 relation2\n",
       "1 1       2184            가톨릭      002      하            비슷한말 \n",
       "2 2       2186            가톨릭-교   001      중            비슷한말 \n",
       "3 3       2186            가톨릭-교   001      중            비슷한말 \n",
       "4 4       2186            가톨릭-교   001      중            비슷한말 \n",
       "5 5       2188            가톨릭-교도 001      중            비슷한말 \n",
       "6 6       2190            가톨릭교-회 001      중            비슷한말 \n",
       "  관련어 word_id 관련어      의미번호_1 관련어 난이도\n",
       "1  97798         서학        002        중           \n",
       "2  16023         공교        002        상           \n",
       "3 182393         천주-학     001        중           \n",
       "4 176596         진교        002        상           \n",
       "5 182378         천좍-쟁이   001        상           \n",
       "6 182379         천주^공교회 001        상           "
      ]
     },
     "metadata": {},
     "output_type": "display_data"
    }
   ],
   "source": [
    "ezdata <- readcsv('/original data/EZmeta30.csv')\n",
    "head(ezdata)"
   ]
  },
  {
   "cell_type": "code",
   "execution_count": 30,
   "metadata": {},
   "outputs": [
    {
     "data": {
      "text/html": [
       "<table>\n",
       "<thead><tr><th scope=col>head</th><th scope=col>tail</th></tr></thead>\n",
       "<tbody>\n",
       "\t<tr><td>가톨릭002    </td><td>서학002      </td></tr>\n",
       "\t<tr><td>가톨릭교001  </td><td>공교002      </td></tr>\n",
       "\t<tr><td>가톨릭교001  </td><td>천주학001    </td></tr>\n",
       "\t<tr><td>가톨릭교001  </td><td>진교002      </td></tr>\n",
       "\t<tr><td>가톨릭교도001</td><td>천좍쟁이001  </td></tr>\n",
       "\t<tr><td>가톨릭교회001</td><td>천주공교회001</td></tr>\n",
       "</tbody>\n",
       "</table>\n"
      ],
      "text/latex": [
       "\\begin{tabular}{ll}\n",
       " head & tail\\\\\n",
       "\\hline\n",
       "\t 가톨릭002     & 서학002      \\\\\n",
       "\t 가톨릭교001   & 공교002      \\\\\n",
       "\t 가톨릭교001   & 천주학001    \\\\\n",
       "\t 가톨릭교001   & 진교002      \\\\\n",
       "\t 가톨릭교도001 & 천좍쟁이001  \\\\\n",
       "\t 가톨릭교회001 & 천주공교회001\\\\\n",
       "\\end{tabular}\n"
      ],
      "text/markdown": [
       "\n",
       "| head | tail |\n",
       "|---|---|\n",
       "| 가톨릭002     | 서학002       |\n",
       "| 가톨릭교001   | 공교002       |\n",
       "| 가톨릭교001   | 천주학001     |\n",
       "| 가톨릭교001   | 진교002       |\n",
       "| 가톨릭교도001 | 천좍쟁이001   |\n",
       "| 가톨릭교회001 | 천주공교회001 |\n",
       "\n"
      ],
      "text/plain": [
       "     head          tail         \n",
       "[1,] 가톨릭002     서학002      \n",
       "[2,] 가톨릭교001   공교002      \n",
       "[3,] 가톨릭교001   천주학001    \n",
       "[4,] 가톨릭교001   진교002      \n",
       "[5,] 가톨릭교도001 천좍쟁이001  \n",
       "[6,] 가톨릭교회001 천주공교회001"
      ]
     },
     "metadata": {},
     "output_type": "display_data"
    }
   ],
   "source": [
    "relData <- ezdata[ezdata$relation2=='비슷한말' | ezdata$relation2=='반대말',]\n",
    "refine <- gsub('[^ㄱ-힣]','',relData$'표제어')\n",
    "head <- paste0(refine,relData$'의미번호')\n",
    "refine2 <- gsub('[^ㄱ-힣]','',relData$'관련어')\n",
    "tail <- paste0(refine2,relData$'의미번호_1')\n",
    "refinedData <- cbind(head,tail)\n",
    "head(refinedData)"
   ]
  },
  {
   "cell_type": "code",
   "execution_count": 32,
   "metadata": {},
   "outputs": [
    {
     "name": "stderr",
     "output_type": "stream",
     "text": [
      "Parsed with column specification:\n",
      "cols(\n",
      "  key = col_character(),\n",
      "  subnodes = col_double()\n",
      ")\n"
     ]
    },
    {
     "data": {
      "text/html": [
       "<table>\n",
       "<thead><tr><th scope=col>key</th><th scope=col>subnodes</th></tr></thead>\n",
       "<tbody>\n",
       "\t<tr><td>ㄱㄴㄷ순001  </td><td>10           </td></tr>\n",
       "\t<tr><td>ㄱㄴㄷ차례001</td><td>10           </td></tr>\n",
       "\t<tr><td>ㄱㄴ순001    </td><td>10           </td></tr>\n",
       "\t<tr><td>ㄱㄴ차례001  </td><td>10           </td></tr>\n",
       "\t<tr><td>ㄱ자관001    </td><td> 3           </td></tr>\n",
       "\t<tr><td>ㄱ자관002    </td><td> 3           </td></tr>\n",
       "</tbody>\n",
       "</table>\n"
      ],
      "text/latex": [
       "\\begin{tabular}{r|ll}\n",
       " key & subnodes\\\\\n",
       "\\hline\n",
       "\t ㄱㄴㄷ순001   & 10           \\\\\n",
       "\t ㄱㄴㄷ차례001 & 10           \\\\\n",
       "\t ㄱㄴ순001     & 10           \\\\\n",
       "\t ㄱㄴ차례001   & 10           \\\\\n",
       "\t ㄱ자관001     &  3           \\\\\n",
       "\t ㄱ자관002     &  3           \\\\\n",
       "\\end{tabular}\n"
      ],
      "text/markdown": [
       "\n",
       "| key | subnodes |\n",
       "|---|---|\n",
       "| ㄱㄴㄷ순001   | 10            |\n",
       "| ㄱㄴㄷ차례001 | 10            |\n",
       "| ㄱㄴ순001     | 10            |\n",
       "| ㄱㄴ차례001   | 10            |\n",
       "| ㄱ자관001     |  3            |\n",
       "| ㄱ자관002     |  3            |\n",
       "\n"
      ],
      "text/plain": [
       "  key           subnodes\n",
       "1 ㄱㄴㄷ순001   10      \n",
       "2 ㄱㄴㄷ차례001 10      \n",
       "3 ㄱㄴ순001     10      \n",
       "4 ㄱㄴ차례001   10      \n",
       "5 ㄱ자관001      3      \n",
       "6 ㄱ자관002      3      "
      ]
     },
     "metadata": {},
     "output_type": "display_data"
    }
   ],
   "source": [
    "keyList1 <- readcsv('/related words/keyList1.csv')\n",
    "head(keyList1)"
   ]
  },
  {
   "cell_type": "code",
   "execution_count": 33,
   "metadata": {},
   "outputs": [
    {
     "name": "stderr",
     "output_type": "stream",
     "text": [
      "Warning message:\n",
      "\"Missing column names filled in: 'X1' [1]\"Parsed with column specification:\n",
      "cols(\n",
      "  X1 = col_character(),\n",
      "  `startTime(UTC)` = col_character(),\n",
      "  `endTime(UTC)` = col_character(),\n",
      "  `processTime(sec)` = col_number(),\n",
      "  `processTime(hour)` = col_double(),\n",
      "  `number of data processing` = col_double(),\n",
      "  `Processing Rate(data number/hour)` = col_double()\n",
      ")\n"
     ]
    },
    {
     "data": {
      "text/html": [
       "<table>\n",
       "<thead><tr><th scope=col>X1</th><th scope=col>startTime(UTC)</th><th scope=col>endTime(UTC)</th><th scope=col>processTime(sec)</th><th scope=col>processTime(hour)</th><th scope=col>number of data processing</th><th scope=col>Processing Rate(data number/hour)</th></tr></thead>\n",
       "<tbody>\n",
       "\t<tr><td>local_rstudio      </td><td>2020-02-15 16:05:13</td><td>2020-02-16 3:13:52 </td><td>40119              </td><td>11.10              </td><td> 31462             </td><td> 2834.41           </td></tr>\n",
       "\t<tr><td>Chrome             </td><td>2020-02-15 7:42:17 </td><td>2020-02-16 7:03:53 </td><td>84096              </td><td>23.36              </td><td> 59730             </td><td> 2556.93           </td></tr>\n",
       "\t<tr><td>Edge               </td><td>2020-02-15 7:43:44 </td><td>2020-02-16 7:08:31 </td><td>84287              </td><td>23.41              </td><td> 59730             </td><td> 2551.47           </td></tr>\n",
       "\t<tr><td>IE                 </td><td>2020-02-15 7:43:52 </td><td>2020-02-16 7:36    </td><td>83804              </td><td>23.28              </td><td> 59730             </td><td> 2565.72           </td></tr>\n",
       "\t<tr><td>Opera              </td><td>2020-02-15 7:43:57 </td><td>2020-02-16 7:02:04 </td><td>83887              </td><td>23.31              </td><td> 59730             </td><td> 2562.42           </td></tr>\n",
       "\t<tr><td>Brave              </td><td>2020-02-15 7:44:03 </td><td>2020-02-16 7:03:49 </td><td>83986              </td><td>23.33              </td><td> 59730             </td><td> 2560.22           </td></tr>\n",
       "\t<tr><td>FireFox            </td><td>2020-02-15 7:44:22 </td><td>2020-02-16 6:56:56 </td><td>83554              </td><td>23.21              </td><td> 59735             </td><td> 2573.68           </td></tr>\n",
       "\t<tr><td>Browser            </td><td>2020-02-15 7:42:17 </td><td>2020-02-16 7:36:00 </td><td>86023              </td><td>23.90              </td><td>358385             </td><td>14995.19           </td></tr>\n",
       "</tbody>\n",
       "</table>\n"
      ],
      "text/latex": [
       "\\begin{tabular}{r|lllllll}\n",
       " X1 & startTime(UTC) & endTime(UTC) & processTime(sec) & processTime(hour) & number of data processing & Processing Rate(data number/hour)\\\\\n",
       "\\hline\n",
       "\t local\\_rstudio     & 2020-02-15 16:05:13 & 2020-02-16 3:13:52  & 40119               & 11.10               &  31462              &  2834.41           \\\\\n",
       "\t Chrome              & 2020-02-15 7:42:17  & 2020-02-16 7:03:53  & 84096               & 23.36               &  59730              &  2556.93           \\\\\n",
       "\t Edge                & 2020-02-15 7:43:44  & 2020-02-16 7:08:31  & 84287               & 23.41               &  59730              &  2551.47           \\\\\n",
       "\t IE                  & 2020-02-15 7:43:52  & 2020-02-16 7:36     & 83804               & 23.28               &  59730              &  2565.72           \\\\\n",
       "\t Opera               & 2020-02-15 7:43:57  & 2020-02-16 7:02:04  & 83887               & 23.31               &  59730              &  2562.42           \\\\\n",
       "\t Brave               & 2020-02-15 7:44:03  & 2020-02-16 7:03:49  & 83986               & 23.33               &  59730              &  2560.22           \\\\\n",
       "\t FireFox             & 2020-02-15 7:44:22  & 2020-02-16 6:56:56  & 83554               & 23.21               &  59735              &  2573.68           \\\\\n",
       "\t Browser             & 2020-02-15 7:42:17  & 2020-02-16 7:36:00  & 86023               & 23.90               & 358385              & 14995.19           \\\\\n",
       "\\end{tabular}\n"
      ],
      "text/markdown": [
       "\n",
       "| X1 | startTime(UTC) | endTime(UTC) | processTime(sec) | processTime(hour) | number of data processing | Processing Rate(data number/hour) |\n",
       "|---|---|---|---|---|---|---|\n",
       "| local_rstudio       | 2020-02-15 16:05:13 | 2020-02-16 3:13:52  | 40119               | 11.10               |  31462              |  2834.41            |\n",
       "| Chrome              | 2020-02-15 7:42:17  | 2020-02-16 7:03:53  | 84096               | 23.36               |  59730              |  2556.93            |\n",
       "| Edge                | 2020-02-15 7:43:44  | 2020-02-16 7:08:31  | 84287               | 23.41               |  59730              |  2551.47            |\n",
       "| IE                  | 2020-02-15 7:43:52  | 2020-02-16 7:36     | 83804               | 23.28               |  59730              |  2565.72            |\n",
       "| Opera               | 2020-02-15 7:43:57  | 2020-02-16 7:02:04  | 83887               | 23.31               |  59730              |  2562.42            |\n",
       "| Brave               | 2020-02-15 7:44:03  | 2020-02-16 7:03:49  | 83986               | 23.33               |  59730              |  2560.22            |\n",
       "| FireFox             | 2020-02-15 7:44:22  | 2020-02-16 6:56:56  | 83554               | 23.21               |  59735              |  2573.68            |\n",
       "| Browser             | 2020-02-15 7:42:17  | 2020-02-16 7:36:00  | 86023               | 23.90               | 358385              | 14995.19            |\n",
       "\n"
      ],
      "text/plain": [
       "  X1            startTime(UTC)      endTime(UTC)       processTime(sec)\n",
       "1 local_rstudio 2020-02-15 16:05:13 2020-02-16 3:13:52 40119           \n",
       "2 Chrome        2020-02-15 7:42:17  2020-02-16 7:03:53 84096           \n",
       "3 Edge          2020-02-15 7:43:44  2020-02-16 7:08:31 84287           \n",
       "4 IE            2020-02-15 7:43:52  2020-02-16 7:36    83804           \n",
       "5 Opera         2020-02-15 7:43:57  2020-02-16 7:02:04 83887           \n",
       "6 Brave         2020-02-15 7:44:03  2020-02-16 7:03:49 83986           \n",
       "7 FireFox       2020-02-15 7:44:22  2020-02-16 6:56:56 83554           \n",
       "8 Browser       2020-02-15 7:42:17  2020-02-16 7:36:00 86023           \n",
       "  processTime(hour) number of data processing Processing Rate(data number/hour)\n",
       "1 11.10              31462                     2834.41                         \n",
       "2 23.36              59730                     2556.93                         \n",
       "3 23.41              59730                     2551.47                         \n",
       "4 23.28              59730                     2565.72                         \n",
       "5 23.31              59730                     2562.42                         \n",
       "6 23.33              59730                     2560.22                         \n",
       "7 23.21              59735                     2573.68                         \n",
       "8 23.90             358385                    14995.19                         "
      ]
     },
     "metadata": {},
     "output_type": "display_data"
    }
   ],
   "source": [
    "timeData <- readcsv('NaverDictRate.csv')\n",
    "timeData"
   ]
  },
  {
   "cell_type": "code",
   "execution_count": null,
   "metadata": {},
   "outputs": [],
   "source": []
  }
 ],
 "metadata": {
  "kernelspec": {
   "display_name": "R",
   "language": "R",
   "name": "ir"
  },
  "language_info": {
   "codemirror_mode": "r",
   "file_extension": ".r",
   "mimetype": "text/x-r-source",
   "name": "R",
   "pygments_lexer": "r",
   "version": "3.6.1"
  }
 },
 "nbformat": 4,
 "nbformat_minor": 2
}
